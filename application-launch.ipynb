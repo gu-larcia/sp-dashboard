{
 "cells": [
  {
   "cell_type": "code",
   "execution_count": null,
   "id": "576645bf",
   "metadata": {},
   "outputs": [],
   "source": [
    "!pip install -q gradio"
   ]
  },
  {
   "cell_type": "code",
   "execution_count": null,
   "id": "1f75e970",
   "metadata": {},
   "outputs": [],
   "source": [
    "import dashboard\n",
    "dashboard.launch_gradio()"
   ]
  }
 ],
 "metadata": {
  "language_info": {
   "name": "python"
  }
 },
 "nbformat": 4,
 "nbformat_minor": 5
}
